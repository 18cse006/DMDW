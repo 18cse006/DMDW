{
  "nbformat": 4,
  "nbformat_minor": 0,
  "metadata": {
    "colab": {
      "name": "DMDWlab1.ipynb",
      "provenance": [],
      "authorship_tag": "ABX9TyPrtYEJalucbDzIpZ+UqGYs",
      "include_colab_link": true
    },
    "kernelspec": {
      "name": "python3",
      "display_name": "Python 3"
    }
  },
  "cells": [
    {
      "cell_type": "markdown",
      "metadata": {
        "id": "view-in-github",
        "colab_type": "text"
      },
      "source": [
        "<a href=\"https://colab.research.google.com/github/18cse006/DMDW/blob/main/DMDWlab1.ipynb\" target=\"_parent\"><img src=\"https://colab.research.google.com/assets/colab-badge.svg\" alt=\"Open In Colab\"/></a>"
      ]
    },
    {
      "cell_type": "code",
      "metadata": {
        "id": "k4sO7xUmtDUJ"
      },
      "source": [
        "import numpy as np\n",
        "from scipy import stats"
      ],
      "execution_count": 1,
      "outputs": []
    },
    {
      "cell_type": "code",
      "metadata": {
        "colab": {
          "base_uri": "https://localhost:8080/"
        },
        "id": "k7YVwJOXtR56",
        "outputId": "ae599986-400c-4f56-d9ba-3eb9853f9f3b"
      },
      "source": [
        "np.mean([1,2,3,4,5,6,7,8,9,13,24,35,55])"
      ],
      "execution_count": 3,
      "outputs": [
        {
          "output_type": "execute_result",
          "data": {
            "text/plain": [
              "13.23076923076923"
            ]
          },
          "metadata": {
            "tags": []
          },
          "execution_count": 3
        }
      ]
    },
    {
      "cell_type": "code",
      "metadata": {
        "colab": {
          "base_uri": "https://localhost:8080/"
        },
        "id": "lyIXcurktgJ5",
        "outputId": "af427761-043e-4432-ab24-c8cdb98cc07a"
      },
      "source": [
        "np.median([1,2,3,4,5,6,7,8,9,13,24,35,55])"
      ],
      "execution_count": 4,
      "outputs": [
        {
          "output_type": "execute_result",
          "data": {
            "text/plain": [
              "7.0"
            ]
          },
          "metadata": {
            "tags": []
          },
          "execution_count": 4
        }
      ]
    },
    {
      "cell_type": "code",
      "metadata": {
        "colab": {
          "base_uri": "https://localhost:8080/"
        },
        "id": "caqEfbt-tt70",
        "outputId": "2c2c074c-1e85-4bae-c45d-c84fc46e2d2c"
      },
      "source": [
        "stats.mode([1,1,1,2,3,4,5,67,8,])"
      ],
      "execution_count": 7,
      "outputs": [
        {
          "output_type": "execute_result",
          "data": {
            "text/plain": [
              "ModeResult(mode=array([1]), count=array([3]))"
            ]
          },
          "metadata": {
            "tags": []
          },
          "execution_count": 7
        }
      ]
    },
    {
      "cell_type": "markdown",
      "metadata": {
        "id": "GVNAX3FJuEMY"
      },
      "source": [
        "#withpot useing method"
      ]
    },
    {
      "cell_type": "code",
      "metadata": {
        "colab": {
          "base_uri": "https://localhost:8080/"
        },
        "id": "QmCxyWPEuMdQ",
        "outputId": "ff805b81-7010-4500-8f8b-064a9129c086"
      },
      "source": [
        "#mean\n",
        "n1=[1,2,3,4,5]\n",
        "n=len(n1)\n",
        "sum1=sum(n1)\n",
        "mean=sum1/n\n",
        "print(\"mean is :\"+str(mean))"
      ],
      "execution_count": 9,
      "outputs": [
        {
          "output_type": "stream",
          "text": [
            "mean is :3.0\n"
          ],
          "name": "stdout"
        }
      ]
    },
    {
      "cell_type": "code",
      "metadata": {
        "colab": {
          "base_uri": "https://localhost:8080/"
        },
        "id": "AkcD595nuhl5",
        "outputId": "9d6fcdc4-5b68-4d43-e0d0-d30f646007d8"
      },
      "source": [
        "# median\n",
        "n1=[1,2,3,4,5]\n",
        "n=len(n1)\n",
        "n1.sort()\n",
        "if n%2==0:\n",
        "  median1=n1[n//2]\n",
        "  median2=n1[n//2-1]\n",
        "  median=(median1+median2)/2\n",
        "else:\n",
        "  median=n1[n//2]\n",
        "print(\"median is :\"+str(median))"
      ],
      "execution_count": 10,
      "outputs": [
        {
          "output_type": "stream",
          "text": [
            "median is :3\n"
          ],
          "name": "stdout"
        }
      ]
    },
    {
      "cell_type": "code",
      "metadata": {
        "id": "y7oFmQp0vz9l"
      },
      "source": [
        "# mode\n",
        "from collections import Counter"
      ],
      "execution_count": 13,
      "outputs": []
    },
    {
      "cell_type": "code",
      "metadata": {
        "colab": {
          "base_uri": "https://localhost:8080/"
        },
        "id": "9GIUaattwBZ1",
        "outputId": "1bad04b4-b29f-42b2-be2a-da21f65833a7"
      },
      "source": [
        "n1=[1,2,3,4,5,5]\n",
        "n=len(n1)\n",
        "data=Counter(n1)\n",
        "get_mode=dict(data)\n",
        "mode=[k for k,v in get_mode.items() if v==max(list(data.values()))]\n",
        "if len(mode)==n:\n",
        "  get_mode=\"no mode found\"\n",
        "else:\n",
        "  get_mode=\"mode is :\"+','.join(map(str,mode))\n",
        "print(get_mode)"
      ],
      "execution_count": 15,
      "outputs": [
        {
          "output_type": "stream",
          "text": [
            "mode is :5\n"
          ],
          "name": "stdout"
        }
      ]
    },
    {
      "cell_type": "code",
      "metadata": {
        "id": "VZdTLeRNxmGI"
      },
      "source": [
        ""
      ],
      "execution_count": null,
      "outputs": []
    }
  ]
}